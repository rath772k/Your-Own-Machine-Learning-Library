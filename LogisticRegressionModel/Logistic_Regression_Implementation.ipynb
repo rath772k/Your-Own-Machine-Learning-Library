{
 "cells": [
  {
   "cell_type": "code",
   "execution_count": 11,
   "metadata": {},
   "outputs": [
    {
     "name": "stdout",
     "output_type": "stream",
     "text": [
      "Mean =  [65.64427406 66.22199809]\n",
      "Standard Deviation =  [19.36068671 18.48963567]\n"
     ]
    }
   ],
   "source": [
    "import numpy as np\n",
    "import Logistic_regression as Lor\n",
    "dat = np.loadtxt(open(\"/home/rath772k/.config/spyder-py3/LogisticRegressionData1.txt\"),delimiter=',')\n",
    "np.random.shuffle(dat)\n",
    "x = dat[:,0:-1]\n",
    "y = dat[:,-1:]\n",
    "(a,b)=np.shape(x)\n",
    "dp = Lor.log_reg()\n",
    "x,Mean,Std = dp.normalize(x)\n",
    "x_train=x[0:7*a//10,:]\n",
    "y_train=y[0:7*a//10,:]\n",
    "x_test=x[7*a//10:a,:]\n",
    "y_test=y[7*a//10:a,:]\n",
    "print(\"Mean = \",Mean)\n",
    "print(\"Standard Deviation = \",Std)\n",
    "dp.fit(x_train,y_train)\n",
    "\n"
   ]
  },
  {
   "cell_type": "code",
   "execution_count": 12,
   "metadata": {},
   "outputs": [
    {
     "name": "stdout",
     "output_type": "stream",
     "text": [
      "weights= [3.51246799 3.27299515]\n",
      "bias= [1.55517725]\n",
      "Accuracy of my model: 93.33333333333333 %\n"
     ]
    }
   ],
   "source": [
    "weight,bias=dp.grad_descent(0.5,1000)\n",
    "dp.cost_fn()\n",
    "print(\"weights=\",weight.flatten())\n",
    "print(\"bias=\",bias)\n",
    "print (\"Accuracy of my model:\",dp.accuracy(x_test,y_test),\"%\")"
   ]
  },
  {
   "cell_type": "code",
   "execution_count": 13,
   "metadata": {},
   "outputs": [
    {
     "name": "stdout",
     "output_type": "stream",
     "text": [
      "Accuracy of sklearn: 93.33333333333333 %\n"
     ]
    }
   ],
   "source": [
    "from sklearn.linear_model import LogisticRegression\n",
    "ap=LogisticRegression().fit(x_train,y_train)\n",
    "res=ap.predict(x_test).reshape(y_test.shape)\n",
    "acc=np.mean(res==y_test)\n",
    "print(\"Accuracy of sklearn:\",acc*100,\"%\")"
   ]
  }
 ],
 "metadata": {
  "kernelspec": {
   "display_name": "Python 3",
   "language": "python",
   "name": "python3"
  },
  "language_info": {
   "codemirror_mode": {
    "name": "ipython",
    "version": 3
   },
   "file_extension": ".py",
   "mimetype": "text/x-python",
   "name": "python",
   "nbconvert_exporter": "python",
   "pygments_lexer": "ipython3",
   "version": "3.7.2"
  }
 },
 "nbformat": 4,
 "nbformat_minor": 2
}
