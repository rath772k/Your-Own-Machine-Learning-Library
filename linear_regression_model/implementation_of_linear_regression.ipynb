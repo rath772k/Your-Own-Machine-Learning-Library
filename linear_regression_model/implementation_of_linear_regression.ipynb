{
 "cells": [
  {
   "cell_type": "code",
   "execution_count": 4,
   "metadata": {},
   "outputs": [
    {
     "name": "stdout",
     "output_type": "stream",
     "text": [
      "Mean =  [2000.68085106    3.17021277]\n",
      "Standard Deviation =  [7.86202619e+02 7.52842809e-01]\n"
     ]
    }
   ],
   "source": [
    "import numpy as np\n",
    "import Linear_regression as lr\n",
    "dat = np.loadtxt(open(\"/home/rath772k/.config/spyder-py3/LinearRegressionData.txt\"),delimiter=',')\n",
    "x = dat[:,0:-1]\n",
    "y = dat[:,-1:]\n",
    "(a,b)=np.shape(x)\n",
    "dp = lr.lin_reg()\n",
    "x,mean,std = dp.normalize(x)\n",
    "x_train=x[0:7*a//10,:]\n",
    "y_train=y[0:7*a//10,:]\n",
    "x_test=x[7*a//10:a,:]\n",
    "y_test=y[7*a//10:a,:]\n",
    "print(\"Mean = \",mean)\n",
    "print(\"Standard Deviation = \",std)"
   ]
  },
  {
   "cell_type": "code",
   "execution_count": 6,
   "metadata": {},
   "outputs": [
    {
     "name": "stdout",
     "output_type": "stream",
     "text": [
      "weights= [[111256.41852582]\n",
      " [  6856.11225122]]\n",
      "bias= [347266.04636891]\n",
      "accuracy= 93.14253314569345\n"
     ]
    }
   ],
   "source": [
    "dp.fit(x_train,y_train)\n",
    "weight,bias=dp.grad_descent(0.1,1000)\n",
    "print(\"weights=\",weight)\n",
    "print(\"bias=\",bias)\n",
    "print (\"accuracy=\",dp.accuracy(x_test,y_test))"
   ]
  },
  {
   "cell_type": "code",
   "execution_count": 8,
   "metadata": {},
   "outputs": [
    {
     "name": "stdout",
     "output_type": "stream",
     "text": [
      "accuracy with sk_learn= 93.14253314569358\n"
     ]
    }
   ],
   "source": [
    "from sklearn import linear_model\n",
    "ap=linear_model.LinearRegression()\n",
    "ap.fit(x_train,y_train)\n",
    "accuracy=1-abs(np.mean((y_test-ap.predict(x_test))/y_test))\n",
    "accuracy*=100\n",
    "print(\"accuracy with sk_learn=\",accuracy)"
   ]
  }
 ],
 "metadata": {
  "kernelspec": {
   "display_name": "Python 3",
   "language": "python",
   "name": "python3"
  },
  "language_info": {
   "codemirror_mode": {
    "name": "ipython",
    "version": 3
   },
   "file_extension": ".py",
   "mimetype": "text/x-python",
   "name": "python",
   "nbconvert_exporter": "python",
   "pygments_lexer": "ipython3",
   "version": "3.7.0"
  }
 },
 "nbformat": 4,
 "nbformat_minor": 2
}
