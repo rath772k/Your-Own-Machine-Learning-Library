{
 "cells": [
  {
   "cell_type": "code",
   "execution_count": 7,
   "metadata": {},
   "outputs": [],
   "source": [
    "import numpy as np\n",
    "dat = np.loadtxt(open(\"/home/rath772k/Downloads/mnist_train.csv\"),delimiter=',')\n",
    "np.random.shuffle(dat)\n",
    "x = dat[:,1:]\n",
    "y = dat[:,-0:1]\n",
    "(a,b)=np.shape(x)\n",
    "x_train=x[0:9*a//10,:]\n",
    "y_train=y[0:9*a//10,:]\n",
    "x_test=x[9*a//10:a,:]\n",
    "y_test=y[9*a//10:a,:]"
   ]
  },
  {
   "cell_type": "code",
   "execution_count": 8,
   "metadata": {},
   "outputs": [],
   "source": [
    "import NeuralNetworkClassifier as nn\n",
    "dp = nn.NNClassifier()"
   ]
  },
  {
   "cell_type": "code",
   "execution_count": 12,
   "metadata": {},
   "outputs": [],
   "source": [
    "dp.fit(x,y.flatten(),[16,16])\n",
    "w,b=dp.grad_descent(0.5,500)"
   ]
  },
  {
   "cell_type": "code",
   "execution_count": 21,
   "metadata": {},
   "outputs": [
    {
     "name": "stdout",
     "output_type": "stream",
     "text": [
      "Accuracy of my model: 82.78333333333333 %\n"
     ]
    }
   ],
   "source": [
    "print(\"Accuracy of my model:\",dp.accuracy(x_test,y_test.flatten()),\"%\")\n"
   ]
  },
  {
   "cell_type": "code",
   "execution_count": 16,
   "metadata": {},
   "outputs": [],
   "source": [
    "from sklearn.neural_network import MLPClassifier\n",
    "ap=MLPClassifier(hidden_layer_sizes=(16,16), activation='logistic', solver='lbfgs', alpha=0, learning_rate_init=0.5, max_iter=500)\n",
    "ap.fit(x_train,y_train.flatten())\n",
    "res=ap.predict(x_test)"
   ]
  },
  {
   "cell_type": "code",
   "execution_count": 22,
   "metadata": {},
   "outputs": [
    {
     "name": "stdout",
     "output_type": "stream",
     "text": [
      "Accuracy of sklearn: 87.53333333333333 %\n"
     ]
    }
   ],
   "source": [
    "print(\"Accuracy of sklearn:\",np.mean(res==y_test.flatten())*100,\"%\")"
   ]
  }
 ],
 "metadata": {
  "kernelspec": {
   "display_name": "Python 3",
   "language": "python",
   "name": "python3"
  },
  "language_info": {
   "codemirror_mode": {
    "name": "ipython",
    "version": 3
   },
   "file_extension": ".py",
   "mimetype": "text/x-python",
   "name": "python",
   "nbconvert_exporter": "python",
   "pygments_lexer": "ipython3",
   "version": "3.7.2"
  }
 },
 "nbformat": 4,
 "nbformat_minor": 2
}
