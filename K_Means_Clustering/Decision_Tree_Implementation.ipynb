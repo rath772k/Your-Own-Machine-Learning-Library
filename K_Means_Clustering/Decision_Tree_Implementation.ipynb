{
 "cells": [
  {
   "cell_type": "code",
   "execution_count": 73,
   "metadata": {},
   "outputs": [],
   "source": [
    "import DecisionTreeGiniBased as DT\n",
    "import pandas as pd\n",
    "import numpy as np\n",
    "dat = pd.read_csv('/home/rath772k/Downloads/wdbc.csv',sep=',')\n",
    "dat=np.array(dat)\n",
    "np.random.shuffle(dat)\n",
    "x=list(dat[:,2:])\n",
    "y=list(dat[:,1].flatten())\n",
    "a=len(y)\n",
    "x_train=x[0:7*a//10]\n",
    "y_train=y[0:7*a//10]\n",
    "x_test=x[7*a//10:a]\n",
    "y_test=y[7*a//10:a]\n",
    "dp=DT.DecisionTree()\n",
    "dp.fit(x_train,y_train)"
   ]
  },
  {
   "cell_type": "code",
   "execution_count": 74,
   "metadata": {},
   "outputs": [
    {
     "name": "stdout",
     "output_type": "stream",
     "text": [
      "Decision Tree's Predictions:\n",
      " ['B', 'M', 'B', 'M', 'M', 'B', 'M', 'B', 'B', 'M', 'B', 'B', 'B', 'B', 'B', 'B', 'B', 'B', 'M', 'B']\n",
      "Actual Values:\n",
      " ['B', 'M', 'B', 'M', 'M', 'B', 'M', 'B', 'B', 'M', 'B', 'B', 'B', 'B', 'B', 'B', 'B', 'B', 'M', 'B']\n"
     ]
    }
   ],
   "source": [
    "answer,predict=dp.predict(x_test)\n",
    "print(\"Decision Tree's Predictions:\\n\",answer[0:20])\n",
    "print(\"Actual Values:\\n\",y_test[0:20])"
   ]
  },
  {
   "cell_type": "code",
   "execution_count": 75,
   "metadata": {
    "scrolled": true
   },
   "outputs": [
    {
     "name": "stdout",
     "output_type": "stream",
     "text": [
      "Probability of some predicted values:\n",
      " [{'B': 1.0}, {'M': 1.0}, {'B': 1.0}, {'M': 1.0}, {'M': 1.0}, {'B': 1.0}, {'M': 1.0}, {'B': 1.0}, {'B': 1.0}]\n"
     ]
    }
   ],
   "source": [
    "print(\"Probability of some predicted values:\\n\",dp.find_prob(x_test)[0:9])"
   ]
  },
  {
   "cell_type": "code",
   "execution_count": 76,
   "metadata": {},
   "outputs": [
    {
     "name": "stdout",
     "output_type": "stream",
     "text": [
      "Accuracy of my model: 92.98245614035088 %\n"
     ]
    }
   ],
   "source": [
    "print(\"Accuracy of my model:\",dp.accuracy(x_test,y_test),\"%\")"
   ]
  },
  {
   "cell_type": "code",
   "execution_count": 79,
   "metadata": {},
   "outputs": [
    {
     "name": "stdout",
     "output_type": "stream",
     "text": [
      "Accuracy of sklearn: 59.06432748538012 %\n"
     ]
    }
   ],
   "source": [
    "from sklearn.tree import DecisionTreeClassifier\n",
    "ap=DecisionTreeClassifier(random_state=0)\n",
    "ap.fit(x_train,y_train)\n",
    "res=ap.predict(x_test)\n",
    "l=len(res)\n",
    "accu=sum([int(res[i]==y[i]) for i in range(l)])/l*100\n",
    "print(\"Accuracy of sklearn:\",accu,\"%\")"
   ]
  }
 ],
 "metadata": {
  "kernelspec": {
   "display_name": "Python 3",
   "language": "python",
   "name": "python3"
  },
  "language_info": {
   "codemirror_mode": {
    "name": "ipython",
    "version": 3
   },
   "file_extension": ".py",
   "mimetype": "text/x-python",
   "name": "python",
   "nbconvert_exporter": "python",
   "pygments_lexer": "ipython3",
   "version": "3.7.2"
  }
 },
 "nbformat": 4,
 "nbformat_minor": 2
}
